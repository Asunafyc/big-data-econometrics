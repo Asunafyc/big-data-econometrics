{
 "cells": [
  {
   "cell_type": "markdown",
   "metadata": {},
   "source": [
    "Based on https://github.com/TeconomicsBlog/notebooks/blob/master/PrincipledInstrumentSelection.ipynb"
   ]
  },
  {
   "cell_type": "code",
   "execution_count": 2,
   "metadata": {},
   "outputs": [],
   "source": [
    "import pandas as pd\n",
    "import numpy as np\n",
    "import random\n",
    "import statsmodels.api as sm\n",
    "from sklearn.model_selection import cross_val_score\n",
    "from sklearn.model_selection import RepeatedKFold\n",
    "from sklearn.linear_model import Lasso\n",
    "from sklearn.feature_selection import SelectFromModel\n",
    "import matplotlib.pyplot as plt\n",
    "from tqdm import tqdm\n",
    "import statsmodels.api as sm\n",
    "import itertools\n",
    "from linearmodels import IV2SLS, IVLIML, IVGMM, IVGMMCUE\n",
    "import copy\n",
    "random.seed(10)"
   ]
  },
  {
   "cell_type": "code",
   "execution_count": 3,
   "metadata": {},
   "outputs": [],
   "source": [
    "N = 1000\n",
    "tau = 2\n",
    "weak = np.random.normal(0,1,[N,1])\n",
    "good = np.random.normal(0,1,[N,1])\n",
    "correl = np.random.normal(0,1,[N,1])\n",
    "C = 3*correl + np.random.normal(0,1,[N,1])\n",
    "X = -.000001 * np.round(weak) + 2.5 * correl + 2.5 * good + .5 * C + np.random.normal(0,1,[N,1])\n",
    "Y = tau * X + 1.1 * C + np.random.normal(0,1,[N,1])\n",
    "df = pd.DataFrame({'Y':Y[:,0],'X':X[:,0],'correl':correl[:,0],'good':good[:,0],'weak':weak[:,0]},index = None)"
   ]
  },
  {
   "cell_type": "code",
   "execution_count": 4,
   "metadata": {},
   "outputs": [
    {
     "data": {
      "text/html": [
       "<div>\n",
       "<style scoped>\n",
       "    .dataframe tbody tr th:only-of-type {\n",
       "        vertical-align: middle;\n",
       "    }\n",
       "\n",
       "    .dataframe tbody tr th {\n",
       "        vertical-align: top;\n",
       "    }\n",
       "\n",
       "    .dataframe thead th {\n",
       "        text-align: right;\n",
       "    }\n",
       "</style>\n",
       "<table border=\"1\" class=\"dataframe\">\n",
       "  <thead>\n",
       "    <tr style=\"text-align: right;\">\n",
       "      <th></th>\n",
       "      <th>Y</th>\n",
       "      <th>X</th>\n",
       "      <th>correl</th>\n",
       "      <th>good</th>\n",
       "      <th>weak</th>\n",
       "    </tr>\n",
       "  </thead>\n",
       "  <tbody>\n",
       "    <tr>\n",
       "      <th>0</th>\n",
       "      <td>-12.826713</td>\n",
       "      <td>-4.458227</td>\n",
       "      <td>-1.340288</td>\n",
       "      <td>0.551037</td>\n",
       "      <td>0.219079</td>\n",
       "    </tr>\n",
       "    <tr>\n",
       "      <th>1</th>\n",
       "      <td>3.456734</td>\n",
       "      <td>-0.292264</td>\n",
       "      <td>0.891619</td>\n",
       "      <td>-1.609383</td>\n",
       "      <td>1.091374</td>\n",
       "    </tr>\n",
       "    <tr>\n",
       "      <th>2</th>\n",
       "      <td>3.309675</td>\n",
       "      <td>0.446748</td>\n",
       "      <td>0.457430</td>\n",
       "      <td>-0.371955</td>\n",
       "      <td>0.499583</td>\n",
       "    </tr>\n",
       "    <tr>\n",
       "      <th>3</th>\n",
       "      <td>-26.736045</td>\n",
       "      <td>-9.940684</td>\n",
       "      <td>-2.078578</td>\n",
       "      <td>-0.908508</td>\n",
       "      <td>0.253724</td>\n",
       "    </tr>\n",
       "    <tr>\n",
       "      <th>4</th>\n",
       "      <td>-5.054177</td>\n",
       "      <td>-2.303376</td>\n",
       "      <td>-0.104756</td>\n",
       "      <td>-0.262771</td>\n",
       "      <td>1.078833</td>\n",
       "    </tr>\n",
       "  </tbody>\n",
       "</table>\n",
       "</div>"
      ],
      "text/plain": [
       "           Y         X    correl      good      weak\n",
       "0 -12.826713 -4.458227 -1.340288  0.551037  0.219079\n",
       "1   3.456734 -0.292264  0.891619 -1.609383  1.091374\n",
       "2   3.309675  0.446748  0.457430 -0.371955  0.499583\n",
       "3 -26.736045 -9.940684 -2.078578 -0.908508  0.253724\n",
       "4  -5.054177 -2.303376 -0.104756 -0.262771  1.078833"
      ]
     },
     "execution_count": 4,
     "metadata": {},
     "output_type": "execute_result"
    }
   ],
   "source": [
    "df.head()"
   ]
  },
  {
   "cell_type": "markdown",
   "metadata": {},
   "source": [
    "### Naive regression without an instrument"
   ]
  },
  {
   "cell_type": "code",
   "execution_count": 5,
   "metadata": {},
   "outputs": [
    {
     "name": "stdout",
     "output_type": "stream",
     "text": [
      "                                 OLS Regression Results                                \n",
      "=======================================================================================\n",
      "Dep. Variable:                      y   R-squared (uncentered):                   0.967\n",
      "Model:                            OLS   Adj. R-squared (uncentered):              0.967\n",
      "Method:                 Least Squares   F-statistic:                          2.910e+04\n",
      "Date:                Fri, 05 Feb 2021   Prob (F-statistic):                        0.00\n",
      "Time:                        10:24:45   Log-Likelihood:                         -2257.3\n",
      "No. Observations:                1000   AIC:                                      4517.\n",
      "Df Residuals:                     999   BIC:                                      4522.\n",
      "Df Model:                           1                                                  \n",
      "Covariance Type:            nonrobust                                                  \n",
      "==============================================================================\n",
      "                 coef    std err          t      P>|t|      [0.025      0.975]\n",
      "------------------------------------------------------------------------------\n",
      "x1             2.5568      0.015    170.597      0.000       2.527       2.586\n",
      "==============================================================================\n",
      "Omnibus:                        6.100   Durbin-Watson:                   1.894\n",
      "Prob(Omnibus):                  0.047   Jarque-Bera (JB):                6.389\n",
      "Skew:                           0.136   Prob(JB):                       0.0410\n",
      "Kurtosis:                       3.282   Cond. No.                         1.00\n",
      "==============================================================================\n",
      "\n",
      "Notes:\n",
      "[1] R² is computed without centering (uncentered) since the model does not contain a constant.\n",
      "[2] Standard Errors assume that the covariance matrix of the errors is correctly specified.\n"
     ]
    }
   ],
   "source": [
    "mod = sm.OLS(Y,X)\n",
    "res = mod.fit()\n",
    "print(res.summary())\n"
   ]
  },
  {
   "cell_type": "code",
   "execution_count": 6,
   "metadata": {},
   "outputs": [],
   "source": [
    "estDict = {} # store estimates\n",
    "estDict['no_instrument'] = (float(res.params),float(res.HC0_se))"
   ]
  },
  {
   "cell_type": "markdown",
   "metadata": {},
   "source": [
    "We can also use the IV2SLS estimator with no instruments"
   ]
  },
  {
   "cell_type": "code",
   "execution_count": 7,
   "metadata": {},
   "outputs": [
    {
     "name": "stdout",
     "output_type": "stream",
     "text": [
      "                            OLS Estimation Summary                            \n",
      "==============================================================================\n",
      "Dep. Variable:                      Y   R-squared:                      0.9668\n",
      "Estimator:                        OLS   Adj. R-squared:                 0.9668\n",
      "No. Observations:                1000   F-statistic:                 2.633e+04\n",
      "Date:                Fri, Feb 05 2021   P-value (F-stat)                0.0000\n",
      "Time:                        10:24:46   Distribution:                  chi2(1)\n",
      "Cov. Estimator:                robust                                         \n",
      "                                                                              \n",
      "                             Parameter Estimates                              \n",
      "==============================================================================\n",
      "            Parameter  Std. Err.     T-stat    P-value    Lower CI    Upper CI\n",
      "------------------------------------------------------------------------------\n",
      "X              2.5568     0.0158     162.26     0.0000      2.5260      2.5877\n",
      "==============================================================================\n"
     ]
    },
    {
     "name": "stderr",
     "output_type": "stream",
     "text": [
      "/Users/ida/opt/anaconda3/lib/python3.8/site-packages/linearmodels/iv/data.py:25: FutureWarning: is_categorical is deprecated and will be removed in a future version.  Use is_categorical_dtype instead\n",
      "  if is_categorical(s):\n"
     ]
    }
   ],
   "source": [
    "ivmod = IV2SLS(df.Y, exog = df.X, endog = None, instruments = None)\n",
    "res_2sls = ivmod.fit()\n",
    "print(res_2sls.summary)"
   ]
  },
  {
   "cell_type": "markdown",
   "metadata": {},
   "source": [
    "### Fit using a good instrument (strong first stage and satisfies exclusion restriction)"
   ]
  },
  {
   "cell_type": "code",
   "execution_count": 8,
   "metadata": {},
   "outputs": [
    {
     "name": "stdout",
     "output_type": "stream",
     "text": [
      "                          IV-2SLS Estimation Summary                          \n",
      "==============================================================================\n",
      "Dep. Variable:                      Y   R-squared:                      0.9261\n",
      "Estimator:                    IV-2SLS   Adj. R-squared:                 0.9260\n",
      "No. Observations:                1000   F-statistic:                    2662.3\n",
      "Date:                Fri, Feb 05 2021   P-value (F-stat)                0.0000\n",
      "Time:                        10:24:47   Distribution:                  chi2(1)\n",
      "Cov. Estimator:                robust                                         \n",
      "                                                                              \n",
      "                             Parameter Estimates                              \n",
      "==============================================================================\n",
      "            Parameter  Std. Err.     T-stat    P-value    Lower CI    Upper CI\n",
      "------------------------------------------------------------------------------\n",
      "X              2.0319     0.0394     51.597     0.0000      1.9548      2.1091\n",
      "==============================================================================\n",
      "\n",
      "Endogenous: X\n",
      "Instruments: good\n",
      "Robust Covariance (Heteroskedastic)\n",
      "Debiased: False\n"
     ]
    }
   ],
   "source": [
    "ivmod = IV2SLS(df.Y, exog = None, endog = df.X, instruments = df.good)\n",
    "res_2sls = ivmod.fit()\n",
    "estDict['good_instrument'] = (float(res_2sls.params),float(res_2sls.std_errors))\n",
    "print(res_2sls.summary)"
   ]
  },
  {
   "cell_type": "markdown",
   "metadata": {},
   "source": [
    "### Fit using a weak instrument (satisfies exclusion restriction)"
   ]
  },
  {
   "cell_type": "code",
   "execution_count": 9,
   "metadata": {},
   "outputs": [
    {
     "name": "stdout",
     "output_type": "stream",
     "text": [
      "                          IV-2SLS Estimation Summary                          \n",
      "==============================================================================\n",
      "Dep. Variable:                      Y   R-squared:                     -0.5023\n",
      "Estimator:                    IV-2SLS   Adj. R-squared:                -0.5038\n",
      "No. Observations:                1000   F-statistic:                 1.852e-05\n",
      "Date:                Fri, Feb 05 2021   P-value (F-stat)                0.9966\n",
      "Time:                        10:24:55   Distribution:                  chi2(1)\n",
      "Cov. Estimator:                robust                                         \n",
      "                                                                              \n",
      "                             Parameter Estimates                              \n",
      "==============================================================================\n",
      "            Parameter  Std. Err.     T-stat    P-value    Lower CI    Upper CI\n",
      "------------------------------------------------------------------------------\n",
      "X             -0.5950     138.24    -0.0043     0.9966     -271.55      270.36\n",
      "==============================================================================\n",
      "\n",
      "Endogenous: X\n",
      "Instruments: weak\n",
      "Robust Covariance (Heteroskedastic)\n",
      "Debiased: False\n"
     ]
    }
   ],
   "source": [
    "ivmod = IV2SLS(df.Y, exog = None, endog = df.X, instruments = df.weak)\n",
    "res_2sls = ivmod.fit()\n",
    "estDict['weak_instrument'] = (float(res_2sls.params),float(res_2sls.std_errors))\n",
    "print(res_2sls.summary)"
   ]
  },
  {
   "cell_type": "markdown",
   "metadata": {},
   "source": [
    "### Fit using an instrument that doesn't satisfy the exclusion restriction (but with a strong first stage)"
   ]
  },
  {
   "cell_type": "code",
   "execution_count": 10,
   "metadata": {},
   "outputs": [
    {
     "name": "stdout",
     "output_type": "stream",
     "text": [
      "                          IV-2SLS Estimation Summary                          \n",
      "==============================================================================\n",
      "Dep. Variable:                      Y   R-squared:                      0.9575\n",
      "Estimator:                    IV-2SLS   Adj. R-squared:                 0.9574\n",
      "No. Observations:                1000   F-statistic:                 1.786e+04\n",
      "Date:                Fri, Feb 05 2021   P-value (F-stat)                0.0000\n",
      "Time:                        10:24:56   Distribution:                  chi2(1)\n",
      "Cov. Estimator:                robust                                         \n",
      "                                                                              \n",
      "                             Parameter Estimates                              \n",
      "==============================================================================\n",
      "            Parameter  Std. Err.     T-stat    P-value    Lower CI    Upper CI\n",
      "------------------------------------------------------------------------------\n",
      "X              2.8084     0.0210     133.63     0.0000      2.7673      2.8496\n",
      "==============================================================================\n",
      "\n",
      "Endogenous: X\n",
      "Instruments: correl\n",
      "Robust Covariance (Heteroskedastic)\n",
      "Debiased: False\n"
     ]
    }
   ],
   "source": [
    "ivmod = IV2SLS(df.Y, exog = None, endog = df.X, instruments = df.correl)\n",
    "res_2sls = ivmod.fit()\n",
    "estDict['failed_excl'] = (float(res_2sls.params),float(res_2sls.std_errors))\n",
    "print(res_2sls.summary)"
   ]
  },
  {
   "cell_type": "code",
   "execution_count": 11,
   "metadata": {},
   "outputs": [],
   "source": [
    "estimates = [tau] + list(i[0] for i in estDict.values())\n",
    "bnds = [0] + list(1.96*i[1] for i in estDict.values())\n",
    "x_pos = np.arange(len(estimates))\n",
    "labels = ['true']+list(estDict.keys())"
   ]
  },
  {
   "cell_type": "code",
   "execution_count": 13,
   "metadata": {},
   "outputs": [
    {
     "data": {
      "text/plain": [
       "[2, 2.556847752026293, 2.031947871148329, -0.5949620203795, 2.8084476158295746]"
      ]
     },
     "execution_count": 13,
     "metadata": {},
     "output_type": "execute_result"
    }
   ],
   "source": [
    "estimates"
   ]
  },
  {
   "cell_type": "code",
   "execution_count": 12,
   "metadata": {},
   "outputs": [
    {
     "data": {
      "image/png": "[encoded data removed]",
      "text/plain": [
       "<Figure size 720x432 with 1 Axes>"
      ]
     },
     "metadata": {
      "needs_background": "light"
     },
     "output_type": "display_data"
    }
   ],
   "source": [
    "fig, ax = plt.subplots(figsize = (10,6))\n",
    "ax.bar(x_pos, estimates, yerr=bnds, align='center', alpha=0.5, ecolor='black', capsize=10)\n",
    "ax.set_ylabel('Coefficient of X')\n",
    "ax.set_xticks(x_pos)\n",
    "ax.set_xticklabels(labels)\n",
    "ax.set_title('Estimated causal effect of X on Y')\n",
    "ax.yaxis.grid(True)\n",
    "\n",
    "# Save the figure and show\n",
    "plt.tight_layout()\n",
    "# plt.savefig('bar_plot_with_error_bars.png')\n",
    "plt.show()"
   ]
  },
  {
   "cell_type": "code",
   "execution_count": null,
   "metadata": {},
   "outputs": [],
   "source": []
  },
  {
   "cell_type": "code",
   "execution_count": null,
   "metadata": {},
   "outputs": [],
   "source": []
  }
 ],
 "metadata": {
  "kernelspec": {
   "display_name": "Python 3",
   "language": "python",
   "name": "python3"
  },
  "language_info": {
   "codemirror_mode": {
    "name": "ipython",
    "version": 3
   },
   "file_extension": ".py",
   "mimetype": "text/x-python",
   "name": "python",
   "nbconvert_exporter": "python",
   "pygments_lexer": "ipython3",
   "version": "3.8.5"
  }
 },
 "nbformat": 4,
 "nbformat_minor": 5
}

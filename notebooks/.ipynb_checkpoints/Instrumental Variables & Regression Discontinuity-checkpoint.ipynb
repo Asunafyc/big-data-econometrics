{
 "cells": [
  {
   "cell_type": "markdown",
   "id": "german-camel",
   "metadata": {},
   "source": [
    "Based on https://github.com/TeconomicsBlog/notebooks/blob/master/PrincipledInstrumentSelection.ipynb"
   ]
  },
  {
   "cell_type": "code",
   "execution_count": 16,
   "id": "aquatic-philippines",
   "metadata": {},
   "outputs": [],
   "source": [
    "import pandas as pd\n",
    "import numpy as np\n",
    "import random\n",
    "import statsmodels.api as sm\n",
    "from sklearn.model_selection import cross_val_score\n",
    "from sklearn.model_selection import RepeatedKFold\n",
    "from sklearn.linear_model import Lasso\n",
    "from sklearn.feature_selection import SelectFromModel\n",
    "import matplotlib.pyplot as plt\n",
    "from tqdm import tqdm\n",
    "import statsmodels.api as sm\n",
    "import itertools\n",
    "from linearmodels import IV2SLS, IVLIML, IVGMM, IVGMMCUE\n",
    "import copy\n",
    "random.seed(10)"
   ]
  },
  {
   "cell_type": "code",
   "execution_count": 60,
   "id": "ancient-ceremony",
   "metadata": {},
   "outputs": [],
   "source": [
    "N = 1000\n",
    "tau = 2\n",
    "weak = np.random.normal(0,1,[N,1])\n",
    "good = np.random.normal(0,1,[N,1])\n",
    "correl = np.random.normal(0,1,[N,1])\n",
    "C = 3*correl + np.random.normal(0,1,[N,1])\n",
    "X = -.000001 * np.round(weak) + 2.5 * correl + 2.5 * good + .5 * C + np.random.normal(0,1,[N,1])\n",
    "Y = tau * X + 1.1 * C + np.random.normal(0,1,[N,1])\n",
    "df = pd.DataFrame({'Y':Y[:,0],'X':X[:,0],'correl':correl[:,0],'good':good[:,0],'weak':weak[:,0]},index = None)"
   ]
  },
  {
   "cell_type": "code",
   "execution_count": 12,
   "id": "covered-envelope",
   "metadata": {},
   "outputs": [
    {
     "data": {
      "text/html": [
       "<div>\n",
       "<style scoped>\n",
       "    .dataframe tbody tr th:only-of-type {\n",
       "        vertical-align: middle;\n",
       "    }\n",
       "\n",
       "    .dataframe tbody tr th {\n",
       "        vertical-align: top;\n",
       "    }\n",
       "\n",
       "    .dataframe thead th {\n",
       "        text-align: right;\n",
       "    }\n",
       "</style>\n",
       "<table border=\"1\" class=\"dataframe\">\n",
       "  <thead>\n",
       "    <tr style=\"text-align: right;\">\n",
       "      <th></th>\n",
       "      <th>Y</th>\n",
       "      <th>X</th>\n",
       "      <th>correl</th>\n",
       "      <th>good</th>\n",
       "      <th>weak</th>\n",
       "    </tr>\n",
       "  </thead>\n",
       "  <tbody>\n",
       "    <tr>\n",
       "      <th>0</th>\n",
       "      <td>-7.136351</td>\n",
       "      <td>-3.845400</td>\n",
       "      <td>-0.429958</td>\n",
       "      <td>-0.874411</td>\n",
       "      <td>-0.252916</td>\n",
       "    </tr>\n",
       "    <tr>\n",
       "      <th>1</th>\n",
       "      <td>-8.737125</td>\n",
       "      <td>-3.111318</td>\n",
       "      <td>-0.764600</td>\n",
       "      <td>0.454235</td>\n",
       "      <td>-0.026408</td>\n",
       "    </tr>\n",
       "    <tr>\n",
       "      <th>2</th>\n",
       "      <td>-7.305915</td>\n",
       "      <td>-2.350582</td>\n",
       "      <td>-0.772170</td>\n",
       "      <td>-0.052037</td>\n",
       "      <td>0.245620</td>\n",
       "    </tr>\n",
       "    <tr>\n",
       "      <th>3</th>\n",
       "      <td>-11.968348</td>\n",
       "      <td>-4.524371</td>\n",
       "      <td>-1.037881</td>\n",
       "      <td>-0.531007</td>\n",
       "      <td>-0.043539</td>\n",
       "    </tr>\n",
       "    <tr>\n",
       "      <th>4</th>\n",
       "      <td>5.585277</td>\n",
       "      <td>2.721373</td>\n",
       "      <td>0.760436</td>\n",
       "      <td>-0.107949</td>\n",
       "      <td>-0.213633</td>\n",
       "    </tr>\n",
       "  </tbody>\n",
       "</table>\n",
       "</div>"
      ],
      "text/plain": [
       "           Y         X    correl      good      weak\n",
       "0  -7.136351 -3.845400 -0.429958 -0.874411 -0.252916\n",
       "1  -8.737125 -3.111318 -0.764600  0.454235 -0.026408\n",
       "2  -7.305915 -2.350582 -0.772170 -0.052037  0.245620\n",
       "3 -11.968348 -4.524371 -1.037881 -0.531007 -0.043539\n",
       "4   5.585277  2.721373  0.760436 -0.107949 -0.213633"
      ]
     },
     "execution_count": 12,
     "metadata": {},
     "output_type": "execute_result"
    }
   ],
   "source": [
    "df.head()"
   ]
  },
  {
   "cell_type": "markdown",
   "id": "reduced-relations",
   "metadata": {},
   "source": [
    "### Naive regression without an instrument"
   ]
  },
  {
   "cell_type": "code",
   "execution_count": 45,
   "id": "disciplinary-pakistan",
   "metadata": {},
   "outputs": [
    {
     "name": "stdout",
     "output_type": "stream",
     "text": [
      "                                 OLS Regression Results                                \n",
      "=======================================================================================\n",
      "Dep. Variable:                      y   R-squared (uncentered):                   0.972\n",
      "Model:                            OLS   Adj. R-squared (uncentered):              0.972\n",
      "Method:                 Least Squares   F-statistic:                          3.453e+04\n",
      "Date:                Mon, 01 Feb 2021   Prob (F-statistic):                        0.00\n",
      "Time:                        13:25:32   Log-Likelihood:                         -2209.9\n",
      "No. Observations:                1000   AIC:                                      4422.\n",
      "Df Residuals:                     999   BIC:                                      4427.\n",
      "Df Model:                           1                                                  \n",
      "Covariance Type:            nonrobust                                                  \n",
      "==============================================================================\n",
      "                 coef    std err          t      P>|t|      [0.025      0.975]\n",
      "------------------------------------------------------------------------------\n",
      "x1             2.6102      0.014    185.834      0.000       2.583       2.638\n",
      "==============================================================================\n",
      "Omnibus:                        0.025   Durbin-Watson:                   1.957\n",
      "Prob(Omnibus):                  0.988   Jarque-Bera (JB):                0.009\n",
      "Skew:                          -0.007   Prob(JB):                        0.996\n",
      "Kurtosis:                       3.002   Cond. No.                         1.00\n",
      "==============================================================================\n",
      "\n",
      "Notes:\n",
      "[1] R² is computed without centering (uncentered) since the model does not contain a constant.\n",
      "[2] Standard Errors assume that the covariance matrix of the errors is correctly specified.\n"
     ]
    }
   ],
   "source": [
    "mod = sm.OLS(Y,X)\n",
    "res = mod.fit()\n",
    "print(res.summary())\n"
   ]
  },
  {
   "cell_type": "code",
   "execution_count": 53,
   "id": "known-marketplace",
   "metadata": {},
   "outputs": [],
   "source": [
    "estDict = {} # store estimates\n",
    "estDict['no_instrument'] = (float(res.params),float(res.HC0_se))"
   ]
  },
  {
   "cell_type": "markdown",
   "id": "swedish-bread",
   "metadata": {},
   "source": [
    "We can also use the IV2SLS estimator with no instruments"
   ]
  },
  {
   "cell_type": "code",
   "execution_count": 54,
   "id": "terminal-midwest",
   "metadata": {},
   "outputs": [
    {
     "name": "stdout",
     "output_type": "stream",
     "text": [
      "                            OLS Estimation Summary                            \n",
      "==============================================================================\n",
      "Dep. Variable:                      Y   R-squared:                      0.9719\n",
      "Estimator:                        OLS   Adj. R-squared:                 0.9719\n",
      "No. Observations:                1000   F-statistic:                  3.86e+04\n",
      "Date:                Mon, Feb 01 2021   P-value (F-stat)                0.0000\n",
      "Time:                        13:27:59   Distribution:                  chi2(1)\n",
      "Cov. Estimator:                robust                                         \n",
      "                                                                              \n",
      "                             Parameter Estimates                              \n",
      "==============================================================================\n",
      "            Parameter  Std. Err.     T-stat    P-value    Lower CI    Upper CI\n",
      "------------------------------------------------------------------------------\n",
      "X              2.6102     0.0133     196.46     0.0000      2.5842      2.6363\n",
      "==============================================================================\n"
     ]
    }
   ],
   "source": [
    "ivmod = IV2SLS(df.Y, exog = df.X, endog = None, instruments = None)\n",
    "res_2sls = ivmod.fit()\n",
    "print(res_2sls.summary)"
   ]
  },
  {
   "cell_type": "markdown",
   "id": "breeding-exercise",
   "metadata": {},
   "source": [
    "### Fit using a good instrument (strong first stage and satisfies exclusion restriction)"
   ]
  },
  {
   "cell_type": "code",
   "execution_count": 55,
   "id": "hydraulic-empire",
   "metadata": {},
   "outputs": [
    {
     "name": "stdout",
     "output_type": "stream",
     "text": [
      "                          IV-2SLS Estimation Summary                          \n",
      "==============================================================================\n",
      "Dep. Variable:                      Y   R-squared:                      0.9282\n",
      "Estimator:                    IV-2SLS   Adj. R-squared:                 0.9282\n",
      "No. Observations:                1000   F-statistic:                    2137.1\n",
      "Date:                Mon, Feb 01 2021   P-value (F-stat)                0.0000\n",
      "Time:                        13:28:00   Distribution:                  chi2(1)\n",
      "Cov. Estimator:                robust                                         \n",
      "                                                                              \n",
      "                             Parameter Estimates                              \n",
      "==============================================================================\n",
      "            Parameter  Std. Err.     T-stat    P-value    Lower CI    Upper CI\n",
      "------------------------------------------------------------------------------\n",
      "X              2.0571     0.0445     46.229     0.0000      1.9699      2.1443\n",
      "==============================================================================\n",
      "\n",
      "Endogenous: X\n",
      "Instruments: good\n",
      "Robust Covariance (Heteroskedastic)\n",
      "Debiased: False\n"
     ]
    }
   ],
   "source": [
    "ivmod = IV2SLS(df.Y, exog = None, endog = df.X, instruments = df.good)\n",
    "res_2sls = ivmod.fit()\n",
    "estDict['good_instrument'] = (float(res_2sls.params),float(res_2sls.std_errors))\n",
    "print(res_2sls.summary)"
   ]
  },
  {
   "cell_type": "markdown",
   "id": "applicable-headline",
   "metadata": {},
   "source": [
    "### Fit using a weak instrument (satisfies exclusion restriction)"
   ]
  },
  {
   "cell_type": "code",
   "execution_count": 56,
   "id": "dramatic-heading",
   "metadata": {},
   "outputs": [
    {
     "name": "stdout",
     "output_type": "stream",
     "text": [
      "                          IV-2SLS Estimation Summary                          \n",
      "==============================================================================\n",
      "Dep. Variable:                      Y   R-squared:                      0.9478\n",
      "Estimator:                    IV-2SLS   Adj. R-squared:                 0.9478\n",
      "No. Observations:                1000   F-statistic:                    13.179\n",
      "Date:                Mon, Feb 01 2021   P-value (F-stat)                0.0003\n",
      "Time:                        13:28:01   Distribution:                  chi2(1)\n",
      "Cov. Estimator:                robust                                         \n",
      "                                                                              \n",
      "                             Parameter Estimates                              \n",
      "==============================================================================\n",
      "            Parameter  Std. Err.     T-stat    P-value    Lower CI    Upper CI\n",
      "------------------------------------------------------------------------------\n",
      "X              2.1994     0.6059     3.6302     0.0003      1.0120      3.3869\n",
      "==============================================================================\n",
      "\n",
      "Endogenous: X\n",
      "Instruments: weak\n",
      "Robust Covariance (Heteroskedastic)\n",
      "Debiased: False\n"
     ]
    }
   ],
   "source": [
    "ivmod = IV2SLS(df.Y, exog = None, endog = df.X, instruments = df.weak)\n",
    "res_2sls = ivmod.fit()\n",
    "estDict['weak_instrument'] = (float(res_2sls.params),float(res_2sls.std_errors))\n",
    "print(res_2sls.summary)"
   ]
  },
  {
   "cell_type": "markdown",
   "id": "mental-christian",
   "metadata": {},
   "source": [
    "### Fit using an instrument that doesn't satisfy the exclusion restriction (but with a strong first stage)"
   ]
  },
  {
   "cell_type": "code",
   "execution_count": 57,
   "id": "indonesian-arctic",
   "metadata": {},
   "outputs": [
    {
     "name": "stdout",
     "output_type": "stream",
     "text": [
      "                          IV-2SLS Estimation Summary                          \n",
      "==============================================================================\n",
      "Dep. Variable:                      Y   R-squared:                      0.9655\n",
      "Estimator:                    IV-2SLS   Adj. R-squared:                 0.9655\n",
      "No. Observations:                1000   F-statistic:                 2.729e+04\n",
      "Date:                Mon, Feb 01 2021   P-value (F-stat)                0.0000\n",
      "Time:                        13:28:01   Distribution:                  chi2(1)\n",
      "Cov. Estimator:                robust                                         \n",
      "                                                                              \n",
      "                             Parameter Estimates                              \n",
      "==============================================================================\n",
      "            Parameter  Std. Err.     T-stat    P-value    Lower CI    Upper CI\n",
      "------------------------------------------------------------------------------\n",
      "X              2.8220     0.0171     165.20     0.0000      2.7885      2.8555\n",
      "==============================================================================\n",
      "\n",
      "Endogenous: X\n",
      "Instruments: correl\n",
      "Robust Covariance (Heteroskedastic)\n",
      "Debiased: False\n"
     ]
    }
   ],
   "source": [
    "ivmod = IV2SLS(df.Y, exog = None, endog = df.X, instruments = df.correl)\n",
    "res_2sls = ivmod.fit()\n",
    "estDict['failed_excl'] = (float(res_2sls.params),float(res_2sls.std_errors))\n",
    "print(res_2sls.summary)"
   ]
  },
  {
   "cell_type": "code",
   "execution_count": 72,
   "id": "western-nudist",
   "metadata": {},
   "outputs": [],
   "source": [
    "estimates = [tau] + list(i[0] for i in estDict.values())\n",
    "bnds = [0] + list(1.96*i[1] for i in estDict.values())\n",
    "x_pos = np.arange(len(estimates))\n",
    "labels = ['true']+list(estDict.keys())"
   ]
  },
  {
   "cell_type": "code",
   "execution_count": 77,
   "id": "vertical-development",
   "metadata": {},
   "outputs": [
    {
     "data": {
      "image/png": "[encoded data removed]",
      "text/plain": [
       "<Figure size 720x432 with 1 Axes>"
      ]
     },
     "metadata": {
      "needs_background": "light"
     },
     "output_type": "display_data"
    }
   ],
   "source": [
    "fig, ax = plt.subplots(figsize = (10,6))\n",
    "ax.bar(x_pos, estimates, yerr=bnds, align='center', alpha=0.5, ecolor='black', capsize=10)\n",
    "ax.set_ylabel('Coefficient of X')\n",
    "ax.set_xticks(x_pos)\n",
    "ax.set_xticklabels(labels)\n",
    "ax.set_title('Estimated causal effect of X on Y')\n",
    "ax.yaxis.grid(True)\n",
    "\n",
    "# Save the figure and show\n",
    "plt.tight_layout()\n",
    "# plt.savefig('bar_plot_with_error_bars.png')\n",
    "plt.show()"
   ]
  }
 ],
 "metadata": {
  "kernelspec": {
   "display_name": "Python 3",
   "language": "python",
   "name": "python3"
  },
  "language_info": {
   "codemirror_mode": {
    "name": "ipython",
    "version": 3
   },
   "file_extension": ".py",
   "mimetype": "text/x-python",
   "name": "python",
   "nbconvert_exporter": "python",
   "pygments_lexer": "ipython3",
   "version": "3.9.0"
  }
 },
 "nbformat": 4,
 "nbformat_minor": 5
}

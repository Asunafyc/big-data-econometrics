{
 "cells": [
  {
   "cell_type": "code",
   "execution_count": 3,
   "metadata": {},
   "outputs": [],
   "source": [
    "import gdelt\n",
    "\n",
    "gd = gdelt.gdelt(version=1)\n"
   ]
  },
  {
   "cell_type": "code",
   "execution_count": 9,
   "metadata": {},
   "outputs": [
    {
     "ename": "IndentationError",
     "evalue": "expected an indented block (<ipython-input-9-150f21c59988>, line 15)",
     "output_type": "error",
     "traceback": [
      "\u001b[0;36m  File \u001b[0;32m\"<ipython-input-9-150f21c59988>\"\u001b[0;36m, line \u001b[0;32m15\u001b[0m\n\u001b[0;31m    month = \"0\"+month\u001b[0m\n\u001b[0m        ^\u001b[0m\n\u001b[0;31mIndentationError\u001b[0m\u001b[0;31m:\u001b[0m expected an indented block\n"
     ]
    }
   ],
   "source": [
    "#re-importing stuff from earlier in case skipped\n",
    "from statsmodels.tsa.api import VAR\n",
    "import pandas as pd\n",
    "import os\n",
    "os.makedirs('data',exist_ok=True)\n",
    "import datetime\n",
    "cur_date = datetime.datetime(2019,10,7)-datetime.timedelta(days=60)\n",
    "end_date = datetime.datetime(2019,10,7)\n",
    "while cur_date < end_date:\n",
    "    print(cur_date)\n",
    "    year = cur_date.year\n",
    "    month = str(cur_date.month)\n",
    "    day = str(cur_date.day)\n",
    "    if cur_date.month < 10:\n",
    "    month = \"0\"+month\n",
    "    if cur_date.day < 10:\n",
    "    day = \"0\"+day\n",
    "    results = gd.Search([\"%s %s %s\"%(year, month, day)],table=\"gkg\",coverage=True, translation=False)\n",
    "    results.to_pickle(\"data/%s-%s-%s.pkl\"%(cur_date.year, cur_date.month, cur_date.day))\n",
    "    cur_date+=datetime.timedelta(days=1)"
   ]
  },
  {
   "cell_type": "code",
   "execution_count": null,
   "metadata": {},
   "outputs": [],
   "source": []
  }
 ],
 "metadata": {
  "kernelspec": {
   "display_name": "Python 3",
   "language": "python",
   "name": "python3"
  },
  "language_info": {
   "codemirror_mode": {
    "name": "ipython",
    "version": 3
   },
   "file_extension": ".py",
   "mimetype": "text/x-python",
   "name": "python",
   "nbconvert_exporter": "python",
   "pygments_lexer": "ipython3",
   "version": "3.7.0"
  }
 },
 "nbformat": 4,
 "nbformat_minor": 2
}

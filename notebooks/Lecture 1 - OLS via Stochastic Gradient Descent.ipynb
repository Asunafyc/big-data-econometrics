{
 "cells": [
  {
   "cell_type": "code",
   "execution_count": 1,
   "metadata": {},
   "outputs": [
    {
     "name": "stderr",
     "output_type": "stream",
     "text": [
      "/Users/manguito/.virtualenvs/myEnv/lib/python3.7/site-packages/statsmodels/compat/pandas.py:49: FutureWarning: The Panel class is removed from pandas. Accessing it from the top-level namespace will also be removed in the next version\n",
      "  data_klasses = (pandas.Series, pandas.DataFrame, pandas.Panel)\n"
     ]
    }
   ],
   "source": [
    "import numpy as np\n",
    "import pandas as pd\n",
    "from matplotlib import pyplot as plt\n",
    "from random import seed, random, gauss\n",
    "import statsmodels.api as sm\n"
   ]
  },
  {
   "cell_type": "markdown",
   "metadata": {},
   "source": [
    "### OLS with Stochastic Gradient Descent"
   ]
  },
  {
   "cell_type": "code",
   "execution_count": 2,
   "metadata": {},
   "outputs": [
    {
     "data": {
      "text/html": [
       "<div>\n",
       "<style scoped>\n",
       "    .dataframe tbody tr th:only-of-type {\n",
       "        vertical-align: middle;\n",
       "    }\n",
       "\n",
       "    .dataframe tbody tr th {\n",
       "        vertical-align: top;\n",
       "    }\n",
       "\n",
       "    .dataframe thead th {\n",
       "        text-align: right;\n",
       "    }\n",
       "</style>\n",
       "<table border=\"1\" class=\"dataframe\">\n",
       "  <thead>\n",
       "    <tr style=\"text-align: right;\">\n",
       "      <th></th>\n",
       "      <th>X</th>\n",
       "      <th>y</th>\n",
       "    </tr>\n",
       "  </thead>\n",
       "  <tbody>\n",
       "    <tr>\n",
       "      <th>0</th>\n",
       "      <td>5.910131</td>\n",
       "      <td>4.714615</td>\n",
       "    </tr>\n",
       "    <tr>\n",
       "      <th>1</th>\n",
       "      <td>2.500393</td>\n",
       "      <td>2.076238</td>\n",
       "    </tr>\n",
       "    <tr>\n",
       "      <th>2</th>\n",
       "      <td>3.946845</td>\n",
       "      <td>2.548811</td>\n",
       "    </tr>\n",
       "    <tr>\n",
       "      <th>3</th>\n",
       "      <td>7.102233</td>\n",
       "      <td>4.615368</td>\n",
       "    </tr>\n",
       "    <tr>\n",
       "      <th>4</th>\n",
       "      <td>6.168895</td>\n",
       "      <td>3.264107</td>\n",
       "    </tr>\n",
       "  </tbody>\n",
       "</table>\n",
       "</div>"
      ],
      "text/plain": [
       "          X         y\n",
       "0  5.910131  4.714615\n",
       "1  2.500393  2.076238\n",
       "2  3.946845  2.548811\n",
       "3  7.102233  4.615368\n",
       "4  6.168895  3.264107"
      ]
     },
     "execution_count": 2,
     "metadata": {},
     "output_type": "execute_result"
    }
   ],
   "source": [
    "# Generate data\n",
    "n = 100\n",
    "np.random.seed(0)\n",
    "X = 2.5 * np.random.randn(n) + 1.5   # Array of n values with mean = 1.5, stddev = 2.5\n",
    "res = 0.5 * np.random.randn(n)       # Generate n residual terms\n",
    "y = 2 + 0.3 * X + res                  # Actual values of Y\n",
    "\n",
    "# Create pandas dataframe to store our X and y values\n",
    "df = pd.DataFrame(\n",
    "    {'X': X,\n",
    "     'y': y}\n",
    ")\n",
    "\n",
    "# Show the first five rows of our dataframe\n",
    "df.head()"
   ]
  },
  {
   "cell_type": "code",
   "execution_count": 3,
   "metadata": {},
   "outputs": [
    {
     "name": "stdout",
     "output_type": "stream",
     "text": [
      "alpha = 2.0031670124623426\n",
      "beta = 0.3229396867092763\n"
     ]
    }
   ],
   "source": [
    "# Calculate the mean of X and y\n",
    "xmean = np.mean(X)\n",
    "ymean = np.mean(y)\n",
    "\n",
    "# Calculate the terms needed for the numator and denominator of beta\n",
    "df['xycov'] = (df['X'] - xmean) * (df['y'] - ymean)\n",
    "df['xvar'] = (df['X'] - xmean)**2\n",
    "\n",
    "# Calculate beta and alpha\n",
    "beta = df['xycov'].sum() / df['xvar'].sum()\n",
    "alpha = ymean - (beta * xmean)\n",
    "print(f'alpha = {alpha}')\n",
    "print(f'beta = {beta}')"
   ]
  },
  {
   "cell_type": "code",
   "execution_count": 4,
   "metadata": {},
   "outputs": [
    {
     "data": {
      "image/png": "[encoded data removed]",
      "text/plain": [
       "<Figure size 864x432 with 1 Axes>"
      ]
     },
     "metadata": {},
     "output_type": "display_data"
    }
   ],
   "source": [
    "ypred = alpha + beta * X\n",
    "\n",
    "# Plot regression against actual data\n",
    "plt.figure(figsize=(12, 6))\n",
    "plt.plot(X, ypred)     # regression line\n",
    "plt.plot(X, y, 'ro')   # scatter plot showing actual data\n",
    "plt.title('Actual vs Predicted')\n",
    "plt.xlabel('X')\n",
    "plt.ylabel('y')\n",
    "\n",
    "plt.show()"
   ]
  },
  {
   "cell_type": "code",
   "execution_count": 5,
   "metadata": {},
   "outputs": [
    {
     "name": "stdout",
     "output_type": "stream",
     "text": [
      ">epoch=0, lrate=0.001, error=468.733\n",
      ">epoch=1, lrate=0.001, error=258.425\n",
      ">epoch=2, lrate=0.001, error=206.738\n",
      ">epoch=3, lrate=0.001, error=180.854\n",
      ">epoch=4, lrate=0.001, error=160.966\n",
      ">epoch=5, lrate=0.001, error=143.946\n",
      ">epoch=6, lrate=0.001, error=129.113\n",
      ">epoch=7, lrate=0.001, error=116.156\n",
      ">epoch=8, lrate=0.001, error=104.837\n",
      ">epoch=9, lrate=0.001, error=94.950\n",
      ">epoch=10, lrate=0.001, error=86.314\n",
      ">epoch=11, lrate=0.001, error=78.772\n",
      ">epoch=12, lrate=0.001, error=72.184\n",
      ">epoch=13, lrate=0.001, error=66.430\n",
      ">epoch=14, lrate=0.001, error=61.404\n",
      ">epoch=15, lrate=0.001, error=57.015\n",
      ">epoch=16, lrate=0.001, error=53.181\n",
      ">epoch=17, lrate=0.001, error=49.832\n",
      ">epoch=18, lrate=0.001, error=46.907\n",
      ">epoch=19, lrate=0.001, error=44.352\n",
      ">epoch=20, lrate=0.001, error=42.120\n",
      ">epoch=21, lrate=0.001, error=40.171\n",
      ">epoch=22, lrate=0.001, error=38.468\n",
      ">epoch=23, lrate=0.001, error=36.980\n",
      ">epoch=24, lrate=0.001, error=35.681\n",
      ">epoch=25, lrate=0.001, error=34.545\n",
      ">epoch=26, lrate=0.001, error=33.554\n",
      ">epoch=27, lrate=0.001, error=32.687\n",
      ">epoch=28, lrate=0.001, error=31.930\n",
      ">epoch=29, lrate=0.001, error=31.269\n",
      ">epoch=30, lrate=0.001, error=30.691\n",
      ">epoch=31, lrate=0.001, error=30.186\n",
      ">epoch=32, lrate=0.001, error=29.745\n",
      ">epoch=33, lrate=0.001, error=29.359\n",
      ">epoch=34, lrate=0.001, error=29.022\n",
      ">epoch=35, lrate=0.001, error=28.728\n",
      ">epoch=36, lrate=0.001, error=28.471\n",
      ">epoch=37, lrate=0.001, error=28.246\n",
      ">epoch=38, lrate=0.001, error=28.049\n",
      ">epoch=39, lrate=0.001, error=27.877\n",
      ">epoch=40, lrate=0.001, error=27.727\n",
      ">epoch=41, lrate=0.001, error=27.596\n",
      ">epoch=42, lrate=0.001, error=27.481\n",
      ">epoch=43, lrate=0.001, error=27.381\n",
      ">epoch=44, lrate=0.001, error=27.293\n",
      ">epoch=45, lrate=0.001, error=27.216\n",
      ">epoch=46, lrate=0.001, error=27.149\n",
      ">epoch=47, lrate=0.001, error=27.090\n",
      ">epoch=48, lrate=0.001, error=27.039\n",
      ">epoch=49, lrate=0.001, error=26.994\n",
      "[1.9381705148304995, 0.335948469233473]\n"
     ]
    }
   ],
   "source": [
    "# Make a prediction with coefficients\n",
    "def predict(row, coefficients):\n",
    "\tyhat = coefficients[0]\n",
    "\tfor i in range(len(row)-1):\n",
    "\t\tyhat += coefficients[i + 1] * row[i]\n",
    "\treturn yhat\n",
    " \n",
    "# Estimate linear regression coefficients using stochastic gradient descent\n",
    "def coefficients_sgd(train, l_rate, n_epoch):\n",
    "\tcoef = [0.0 for i in range(len(train[0]))]\n",
    "\tfor epoch in range(n_epoch):\n",
    "\t\tsum_error = 0\n",
    "\t\tfor row in train:\n",
    "\t\t\tyhat = predict(row, coef)\n",
    "\t\t\terror = yhat - row[-1]\n",
    "\t\t\tsum_error += error**2\n",
    "\t\t\tcoef[0] = coef[0] - l_rate * error\n",
    "\t\t\tfor i in range(len(row)-1):\n",
    "\t\t\t\tcoef[i + 1] = coef[i + 1] - l_rate * error * row[i]\n",
    "\t\tprint('>epoch=%d, lrate=%.3f, error=%.3f' % (epoch, l_rate, sum_error))\n",
    "\treturn coef\n",
    " \n",
    "# # Calculate coefficients\n",
    "# dataset = [[1, 1], [2, 3], [4, 3], [3, 2], [5, 5]]\n",
    "dataset = np.array(df[['X','y']])\n",
    "l_rate = 0.001\n",
    "n_epoch = 50\n",
    "coef = coefficients_sgd(dataset, l_rate, n_epoch)\n",
    "print(coef)\n",
    "# df.head()"
   ]
  },
  {
   "cell_type": "code",
   "execution_count": 8,
   "metadata": {},
   "outputs": [
    {
     "data": {
      "text/html": [
       "<table class=\"simpletable\">\n",
       "<caption>OLS Regression Results</caption>\n",
       "<tr>\n",
       "  <th>Dep. Variable:</th>            <td>y</td>        <th>  R-squared:         </th> <td>   0.715</td>\n",
       "</tr>\n",
       "<tr>\n",
       "  <th>Model:</th>                   <td>OLS</td>       <th>  Adj. R-squared:    </th> <td>   0.712</td>\n",
       "</tr>\n",
       "<tr>\n",
       "  <th>Method:</th>             <td>Least Squares</td>  <th>  F-statistic:       </th> <td>   245.5</td>\n",
       "</tr>\n",
       "<tr>\n",
       "  <th>Date:</th>             <td>Thu, 10 Dec 2020</td> <th>  Prob (F-statistic):</th> <td>1.93e-28</td>\n",
       "</tr>\n",
       "<tr>\n",
       "  <th>Time:</th>                 <td>15:28:41</td>     <th>  Log-Likelihood:    </th> <td> -75.359</td>\n",
       "</tr>\n",
       "<tr>\n",
       "  <th>No. Observations:</th>      <td>   100</td>      <th>  AIC:               </th> <td>   154.7</td>\n",
       "</tr>\n",
       "<tr>\n",
       "  <th>Df Residuals:</th>          <td>    98</td>      <th>  BIC:               </th> <td>   159.9</td>\n",
       "</tr>\n",
       "<tr>\n",
       "  <th>Df Model:</th>              <td>     1</td>      <th>                     </th>     <td> </td>   \n",
       "</tr>\n",
       "<tr>\n",
       "  <th>Covariance Type:</th>      <td>nonrobust</td>    <th>                     </th>     <td> </td>   \n",
       "</tr>\n",
       "</table>\n",
       "<table class=\"simpletable\">\n",
       "<tr>\n",
       "    <td></td>       <th>coef</th>     <th>std err</th>      <th>t</th>      <th>P>|t|</th>  <th>[0.025</th>    <th>0.975]</th>  \n",
       "</tr>\n",
       "<tr>\n",
       "  <th>const</th> <td>    2.0032</td> <td>    0.062</td> <td>   32.273</td> <td> 0.000</td> <td>    1.880</td> <td>    2.126</td>\n",
       "</tr>\n",
       "<tr>\n",
       "  <th>X</th>     <td>    0.3229</td> <td>    0.021</td> <td>   15.669</td> <td> 0.000</td> <td>    0.282</td> <td>    0.364</td>\n",
       "</tr>\n",
       "</table>\n",
       "<table class=\"simpletable\">\n",
       "<tr>\n",
       "  <th>Omnibus:</th>       <td> 5.184</td> <th>  Durbin-Watson:     </th> <td>   1.995</td>\n",
       "</tr>\n",
       "<tr>\n",
       "  <th>Prob(Omnibus):</th> <td> 0.075</td> <th>  Jarque-Bera (JB):  </th> <td>   3.000</td>\n",
       "</tr>\n",
       "<tr>\n",
       "  <th>Skew:</th>          <td> 0.210</td> <th>  Prob(JB):          </th> <td>   0.223</td>\n",
       "</tr>\n",
       "<tr>\n",
       "  <th>Kurtosis:</th>      <td> 2.262</td> <th>  Cond. No.          </th> <td>    3.73</td>\n",
       "</tr>\n",
       "</table><br/><br/>Warnings:<br/>[1] Standard Errors assume that the covariance matrix of the errors is correctly specified."
      ],
      "text/plain": [
       "<class 'statsmodels.iolib.summary.Summary'>\n",
       "\"\"\"\n",
       "                            OLS Regression Results                            \n",
       "==============================================================================\n",
       "Dep. Variable:                      y   R-squared:                       0.715\n",
       "Model:                            OLS   Adj. R-squared:                  0.712\n",
       "Method:                 Least Squares   F-statistic:                     245.5\n",
       "Date:                Thu, 10 Dec 2020   Prob (F-statistic):           1.93e-28\n",
       "Time:                        15:28:41   Log-Likelihood:                -75.359\n",
       "No. Observations:                 100   AIC:                             154.7\n",
       "Df Residuals:                      98   BIC:                             159.9\n",
       "Df Model:                           1                                         \n",
       "Covariance Type:            nonrobust                                         \n",
       "==============================================================================\n",
       "                 coef    std err          t      P>|t|      [0.025      0.975]\n",
       "------------------------------------------------------------------------------\n",
       "const          2.0032      0.062     32.273      0.000       1.880       2.126\n",
       "X              0.3229      0.021     15.669      0.000       0.282       0.364\n",
       "==============================================================================\n",
       "Omnibus:                        5.184   Durbin-Watson:                   1.995\n",
       "Prob(Omnibus):                  0.075   Jarque-Bera (JB):                3.000\n",
       "Skew:                           0.210   Prob(JB):                        0.223\n",
       "Kurtosis:                       2.262   Cond. No.                         3.73\n",
       "==============================================================================\n",
       "\n",
       "Warnings:\n",
       "[1] Standard Errors assume that the covariance matrix of the errors is correctly specified.\n",
       "\"\"\""
      ]
     },
     "execution_count": 8,
     "metadata": {},
     "output_type": "execute_result"
    }
   ],
   "source": [
    "mod = sm.OLS(df.y,sm.add_constant(df['X']))\n",
    "res = mod.fit()\n",
    "res.summary()"
   ]
  },
  {
   "cell_type": "markdown",
   "metadata": {},
   "source": [
    "### Another example"
   ]
  },
  {
   "cell_type": "code",
   "execution_count": 17,
   "metadata": {},
   "outputs": [
    {
     "data": {
      "text/plain": [
       "4.58"
      ]
     },
     "execution_count": 17,
     "metadata": {},
     "output_type": "execute_result"
    }
   ],
   "source": [
    "1.14+3.44*1"
   ]
  },
  {
   "cell_type": "code",
   "execution_count": 19,
   "metadata": {},
   "outputs": [
    {
     "name": "stdout",
     "output_type": "stream",
     "text": [
      "b0=-2.110335468396484e+17\n",
      "b1=-1.126094515511346e+17\n"
     ]
    },
    {
     "data": {
      "image/png": "[encoded data removed]",
      "text/plain": [
       "<Figure size 432x288 with 1 Axes>"
      ]
     },
     "metadata": {},
     "output_type": "display_data"
    }
   ],
   "source": [
    "seed = (1)\n",
    "n = 1000\n",
    "x = [random() for i in range(n)]\n",
    "err = [gauss(0,0.05) for i in range(n)]\n",
    "const = [1 for i in range(n)]\n",
    "a0 = 0.5\n",
    "a1 = 1.37\n",
    "a0 = 1.14\n",
    "a1 = 3.44\n",
    "y = [a0+a1*x[i]+err[i] for i in range(len(x))]\n",
    "df = pd.DataFrame.from_dict({'X':x,'y':y})\n",
    "\n",
    "\n",
    "\n",
    "mod = sm.OLS(y,np.transpose(np.array([x,const])))\n",
    "res = mod.fit()\n",
    "res.summary()\n",
    "\n",
    "# x = np.array([1,3,5])\n",
    "# y = np.array([5,12,18])\n",
    "\n",
    "b0_new = 0\n",
    "b1_new = 0\n",
    "a = 0.04\n",
    "MSE = np.array([])\n",
    "\n",
    "for iteration in range(1,11):\n",
    "    y_pred = np.array([])\n",
    "    error = np.array([])\n",
    "    error_x = np.array([])\n",
    "    \n",
    "    b0 = b0_new\n",
    "    b1 = b1_new\n",
    "    \n",
    "    for i in x:\n",
    "        y_pred = np.append(y_pred,(b0+b1*i))\n",
    "    error = np.append(error,y_pred-y)\n",
    "    error_x = np.append(error_x,error*x)\n",
    "    MSE_val = (error**2).mean()\n",
    "    MSE = np.append(MSE,MSE_val)\n",
    "    \n",
    "    b0_new = b0-a*np.sum(error)\n",
    "    b1_new = b1-a*np.sum(error_x)\n",
    "    \n",
    "    \n",
    "print('b0={}'.format(b0_new))\n",
    "print('b1={}'.format(b1_new))\n",
    "\n",
    "plt.plot(MSE,'b-o')\n",
    "plt.title('Mean Squared Error by iteration')\n",
    "plt.xlabel('Iterations')\n",
    "plt.ylabel('MSE value')\n",
    "plt.show()"
   ]
  },
  {
   "cell_type": "code",
   "execution_count": 15,
   "metadata": {},
   "outputs": [
    {
     "name": "stdout",
     "output_type": "stream",
     "text": [
      ">epoch=0, lrate=0.004, error=199.186\n",
      ">epoch=1, lrate=0.004, error=31.132\n",
      ">epoch=2, lrate=0.004, error=19.263\n",
      ">epoch=3, lrate=0.004, error=12.301\n",
      ">epoch=4, lrate=0.004, error=8.213\n",
      ">epoch=5, lrate=0.004, error=5.813\n",
      ">epoch=6, lrate=0.004, error=4.402\n",
      ">epoch=7, lrate=0.004, error=3.574\n",
      ">epoch=8, lrate=0.004, error=3.087\n",
      ">epoch=9, lrate=0.004, error=2.801\n",
      ">epoch=10, lrate=0.004, error=2.633\n",
      ">epoch=11, lrate=0.004, error=2.534\n",
      ">epoch=12, lrate=0.004, error=2.476\n",
      ">epoch=13, lrate=0.004, error=2.442\n",
      ">epoch=14, lrate=0.004, error=2.422\n",
      ">epoch=15, lrate=0.004, error=2.410\n",
      ">epoch=16, lrate=0.004, error=2.403\n",
      ">epoch=17, lrate=0.004, error=2.399\n",
      ">epoch=18, lrate=0.004, error=2.396\n",
      ">epoch=19, lrate=0.004, error=2.395\n",
      ">epoch=20, lrate=0.004, error=2.394\n",
      ">epoch=21, lrate=0.004, error=2.393\n",
      ">epoch=22, lrate=0.004, error=2.393\n",
      ">epoch=23, lrate=0.004, error=2.393\n",
      ">epoch=24, lrate=0.004, error=2.393\n",
      ">epoch=25, lrate=0.004, error=2.393\n",
      ">epoch=26, lrate=0.004, error=2.392\n",
      ">epoch=27, lrate=0.004, error=2.392\n",
      ">epoch=28, lrate=0.004, error=2.392\n",
      ">epoch=29, lrate=0.004, error=2.392\n",
      ">epoch=30, lrate=0.004, error=2.392\n",
      ">epoch=31, lrate=0.004, error=2.392\n",
      ">epoch=32, lrate=0.004, error=2.392\n",
      ">epoch=33, lrate=0.004, error=2.392\n",
      ">epoch=34, lrate=0.004, error=2.392\n",
      ">epoch=35, lrate=0.004, error=2.392\n",
      ">epoch=36, lrate=0.004, error=2.392\n",
      ">epoch=37, lrate=0.004, error=2.392\n",
      ">epoch=38, lrate=0.004, error=2.392\n",
      ">epoch=39, lrate=0.004, error=2.392\n",
      ">epoch=40, lrate=0.004, error=2.392\n",
      ">epoch=41, lrate=0.004, error=2.392\n",
      ">epoch=42, lrate=0.004, error=2.392\n",
      ">epoch=43, lrate=0.004, error=2.392\n",
      ">epoch=44, lrate=0.004, error=2.392\n",
      ">epoch=45, lrate=0.004, error=2.392\n",
      ">epoch=46, lrate=0.004, error=2.392\n",
      ">epoch=47, lrate=0.004, error=2.392\n",
      ">epoch=48, lrate=0.004, error=2.392\n",
      ">epoch=49, lrate=0.004, error=2.392\n"
     ]
    },
    {
     "data": {
      "text/plain": [
       "[0.5021457241512073, 1.3705569932663053]"
      ]
     },
     "execution_count": 15,
     "metadata": {},
     "output_type": "execute_result"
    }
   ],
   "source": [
    "dataset = np.array(df[['X','y']])\n",
    "l_rate = 0.004\n",
    "n_epoch = 50\n",
    "coef = coefficients_sgd(dataset, l_rate, n_epoch)\n",
    "coef"
   ]
  },
  {
   "cell_type": "code",
   "execution_count": null,
   "metadata": {},
   "outputs": [],
   "source": []
  },
  {
   "cell_type": "code",
   "execution_count": null,
   "metadata": {},
   "outputs": [],
   "source": []
  }
 ],
 "metadata": {
  "kernelspec": {
   "display_name": "Python 3",
   "language": "python",
   "name": "python3"
  },
  "language_info": {
   "codemirror_mode": {
    "name": "ipython",
    "version": 3
   },
   "file_extension": ".py",
   "mimetype": "text/x-python",
   "name": "python",
   "nbconvert_exporter": "python",
   "pygments_lexer": "ipython3",
   "version": "3.7.0"
  }
 },
 "nbformat": 4,
 "nbformat_minor": 4
}

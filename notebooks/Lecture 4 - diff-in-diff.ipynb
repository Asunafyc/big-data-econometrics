{
 "cells": [
  {
   "cell_type": "code",
   "execution_count": 1,
   "metadata": {},
   "outputs": [],
   "source": [
    "import pandas as pd\n",
    "import numpy as np\n",
    "import random\n",
    "import statsmodels.api as sm\n",
    "from sklearn.model_selection import cross_val_score\n",
    "from sklearn.model_selection import RepeatedKFold\n",
    "from sklearn.linear_model import Lasso\n",
    "from sklearn.feature_selection import SelectFromModel\n",
    "import matplotlib.pyplot as plt\n",
    "from tqdm import tqdm\n",
    "import statsmodels.api as sm\n",
    "import itertools\n",
    "\n",
    "import copy\n",
    "random.seed(10)"
   ]
  },
  {
   "cell_type": "code",
   "execution_count": 2,
   "metadata": {},
   "outputs": [],
   "source": [
    "img_dir = '/Users/ida/Google Drive/Big Data Econometrics/Slides/images/'"
   ]
  },
  {
   "cell_type": "code",
   "execution_count": 3,
   "metadata": {},
   "outputs": [],
   "source": [
    "def fn_generate_cov(dim,corr):\n",
    "    acc  = []\n",
    "    for i in range(dim):\n",
    "        row = np.ones((1,dim)) * corr\n",
    "        row[0][i] = 1\n",
    "        acc.append(row)\n",
    "    return np.concatenate(acc,axis=0)\n",
    "\n",
    "def fn_generate_multnorm(nobs,corr,nvar):\n",
    "\n",
    "    mu = np.zeros(nvar)\n",
    "    std = (np.abs(np.random.normal(loc = 1, scale = .5,size = (nvar,1))))**(1/2)\n",
    "    # generate random normal distribution\n",
    "    acc = []\n",
    "    for i in range(nvar):\n",
    "        acc.append(np.reshape(np.random.normal(mu[i],std[i],nobs),(nobs,-1)))\n",
    "    \n",
    "    normvars = np.concatenate(acc,axis=1)\n",
    "\n",
    "    cov = fn_generate_cov(nvar,corr)\n",
    "    C = np.linalg.cholesky(cov)\n",
    "\n",
    "    Y = np.transpose(np.dot(C,np.transpose(normvars)))\n",
    "\n",
    "#     return (Y,np.round(np.corrcoef(Y,rowvar=False),2))\n",
    "    return Y\n",
    "\n",
    "def fn_randomize_treatment(N,p=0.5):\n",
    "    treated = random.sample(range(N), round(N*p))\n",
    "    return np.array([(1 if i in treated else 0) for i in range(N)]).reshape([N,1])\n",
    "\n",
    "def fn_bias_rmse_size(theta0,thetahat,se_thetahat,cval = 1.96):\n",
    "    b = thetahat - theta0\n",
    "    bias = np.mean(b)\n",
    "    rmse = np.sqrt(np.mean(b**2))\n",
    "    tval = b/se_thetahat\n",
    "    size = np.mean(1*(np.abs(tval)>cval))\n",
    "    # note size calculated at true parameter value\n",
    "    return (bias,rmse,size)\n",
    "\n",
    "\n",
    "def fn_plot_with_ci(n_values,tauhats,tau,lb,ub,caption):\n",
    "    fig = plt.figure(figsize = (10,6))\n",
    "    plt.plot(n_values,tauhats,label = '$\\hat{\\\\tau}$')\n",
    "    plt.xlabel('N')\n",
    "    plt.ylabel('$\\hat{\\\\tau}$')\n",
    "    plt.axhline(y=tau, color='r', linestyle='-',linewidth=1,\n",
    "                label='True $\\\\tau$={}'.format(tau))\n",
    "    plt.title('{}'.format(caption))\n",
    "    plt.fill_between(n_values, lb, ub,\n",
    "        alpha=0.5, edgecolor='#FF9848', facecolor='#FF9848',label = '95% CI')\n",
    "    plt.legend()\n",
    "    \n",
    "def fn_group_to_ind(vecG,n_g):\n",
    "    \"\"\"\n",
    "    Transform group effects vector of length G into an n-length individual effects vector \n",
    "    \"\"\"\n",
    "#     g = len(vecG)\n",
    "#     return np.concatenate([np.concatenate([vecG[g] for i in range(n_g)]) for g in range(G)]).\\\n",
    "#     reshape([n,1])\n",
    "    return np.array(list(itertools.chain.from_iterable(itertools.repeat(x,n_g) for x in vecG)))\n",
    "\n",
    "def fn_ind_to_panel(vec,T):\n",
    "    \"\"\"\n",
    "    Transform (n x 1) vector of individual specific effect to an (n x T) matrix\n",
    "    \"\"\"\n",
    "    return np.concatenate([vec for i in range(T)],axis =1)\n",
    "\n",
    "def fn_mat_wide_to_long(mat,n,T):\n",
    "    \"\"\"\n",
    "    Take (n x T) matrix and output nxT vector with observations for each t stacked on top\n",
    "    \"\"\"\n",
    "    return np.concatenate([mat[:,i] for i in range(T)]).reshape([n*T,1])\n",
    "\n",
    "def fn_create_wide_to_long_df(data,colnames,n,G,T):\n",
    "    \"\"\"\n",
    "    Take list of matrices in wide format and output a dataframe in long format\n",
    "    \"\"\"\n",
    "    n_g = n/G # number of observations in each group\n",
    "    if n_g.is_integer()==False:\n",
    "        print('Error: n_g is not an integer')\n",
    "    else:\n",
    "        n_g = int(n_g)\n",
    "    group = np.concatenate([fn_group_to_ind(np.array(range(G)).reshape([G,1]),n_g) for i in range(T)])\n",
    "    if len(data)!=len(colnames):\n",
    "        print('Error: number of column names not equal to number of variables')\n",
    "    dataDict = {}\n",
    "    for i in range(len(colnames)):\n",
    "        dataDict[colnames[i]] = fn_mat_wide_to_long(data[i],n,T)[:,0]\n",
    "\n",
    "    dataDict['group'] = group[:,0]+1\n",
    "    dataDict['n'] = 1+np.concatenate([range(n) for i in range(T)])\n",
    "    dataDict['t'] = 1+np.array(list(itertools.chain.from_iterable(itertools.repeat(i,n) for i in range(T))))\n",
    "    return pd.DataFrame(dataDict)\n",
    "\n",
    "def fn_generate_grouped_panel(n,G,T,n_treated,treat_start,beta,delta,linear_trend = False):\n",
    "    n_g = n/G # number of observations in each group\n",
    "    if n_g.is_integer()==False:\n",
    "        print('Error: n_g is not an integer')\n",
    "    else:\n",
    "        n_g = int(n_g)\n",
    "\n",
    "    alphaG = np.random.normal(1,1,[G,1]) # (G x 1) group fixed effects\n",
    "    alpha_i = fn_group_to_ind(alphaG,n_g) # (n x 1)\n",
    "    treatG = np.zeros([G,1])\n",
    "    treatG[:n_treated,] = 1\n",
    "    treat_i = fn_group_to_ind(treatG,n_g) # (n x 1)\n",
    "    # convert to (n X T)\n",
    "    if linear_trend==True:\n",
    "        gamma = np.vstack([np.array(range(T)) for i in range(n)])\n",
    "    else:\n",
    "        gamma = np.ones([n,1])*np.random.normal(0,1,[1,T]) # (n x T) # time specific effects   \n",
    "    alpha = fn_ind_to_panel(alpha_i,T)\n",
    "    treat = fn_ind_to_panel(treat_i,T)\n",
    "    treat = np.concatenate([0*treat[:,:treat_start],treat[:,treat_start:]],axis = 1)\n",
    "    \n",
    "    sig = (np.random.chisquare(2,[n,1])/4+0.5)**(1/2)\n",
    "    eps = sig*((np.random.chisquare(2,[n,T])-2)*0.5) # (n x T)\n",
    "    X = np.concatenate([fn_generate_multnorm(n,.5,1) for i in range(T)],axis =1) # (n x T)\n",
    "    Y = alpha + gamma + beta*treat + delta*X+eps\n",
    "    \n",
    "    return [Y,alpha,gamma,treat,X]\n",
    "\n",
    "def fn_plot_dd(dfg,treat_start,fig_name=False):\n",
    "    \"\"\"\n",
    "    Plot average outcome Y by group\n",
    "    \"\"\"\n",
    "    \n",
    "    Yg = dfg[['Y','I','group','t']].groupby(['group','t']).mean().reset_index()\n",
    "    treatStatus = dict(zip(Yg[Yg.t==Yg.t.max()]['group'],Yg[Yg.t==Yg.t.max()]['I']))\n",
    "    fig = plt.figure(figsize = (10,6))\n",
    "    for g in Yg.group.unique():\n",
    "        plt.plot(Yg[Yg.group==g]['t'],Yg[Yg.group==g]['Y'],label = 'treatment={}'.format(int(treatStatus[g])))\n",
    "    plt.axvline(x=treat_start+1,color = 'red')\n",
    "    plt.xlabel('time period')\n",
    "    plt.ylabel('outcome')\n",
    "    plt.legend()\n",
    "    if fig_name:\n",
    "        plt.savefig(img_dir + 'dd1.png')\n",
    "        \n",
    "def fn_within_transformation(dfg,varlist,group_var):\n",
    "    \"\"\"\n",
    "    Transform each variable in the varlist using the within transformation to eliminate\n",
    "    the group-fixed effects\n",
    "    \"\"\"\n",
    "    dfm = dfg[varlist+[group_var]].groupby([group_var]).mean().\\\n",
    "                reset_index().\\\n",
    "                rename(columns = {k:'{}_bar'.format(k) for k in varlist})\n",
    "    dfg = dfg.merge(dfm, on = ['group'],how = 'left')\n",
    "    dfg['const'] = 1\n",
    "    for v in varlist:\n",
    "        dfg['{}_w'.format(v)] = dfg[v] - dfg['{}_bar'.format(v)]\n",
    "    return dfg"
   ]
  },
  {
   "cell_type": "markdown",
   "metadata": {},
   "source": [
    "Statsmodels sandwich variance estimators\n",
    "https://github.com/statsmodels/statsmodels/blob/master/statsmodels/stats/sandwich_covariance.py"
   ]
  },
  {
   "cell_type": "markdown",
   "metadata": {},
   "source": [
    "## 1. Generate data\n",
    "\n",
    "$Y_{it} = W_{it}\\tau_{it}+\\mu_i+\\delta_t+\\varepsilon_{it}$\n",
    "\n",
    "$\\varepsilon_{it}^{\\left(  r\\right)  }/\\sigma_{i}\\sim IID\\left[\\chi^{2}(2)-2\\right]  /2$\n",
    "\n",
    "$\\sigma_{i}^{2}\\sim IID\\left[  \\chi^{2}(2)/4+0.5\\right]$ "
   ]
  },
  {
   "cell_type": "code",
   "execution_count": 4,
   "metadata": {},
   "outputs": [
    {
     "data": {
      "text/plain": [
       "Text(0.5, 1.0, 'Distribution of errors')"
      ]
     },
     "execution_count": 4,
     "metadata": {},
     "output_type": "execute_result"
    },
    {
     "data": {
      "image/png": "[encoded data removed]",
      "text/plain": [
       "<Figure size 432x288 with 1 Axes>"
      ]
     },
     "metadata": {
      "needs_background": "light"
     },
     "output_type": "display_data"
    }
   ],
   "source": [
    "n = 1000\n",
    "T = 2\n",
    "t_treat = 2# first treatment period\n",
    "p = 0.5\n",
    "tau = 2\n",
    "mu = np.random.normal(1,1,[n,1]) # (n x 1)\n",
    "sig = (np.random.chisquare(2,[n,1])/4+0.5)**(1/2)\n",
    "eps = sig*((np.random.chisquare(2,[n,T])-2)*0.5) # (n x T)\n",
    "# eps = np.random.normal([n,T])\n",
    "delta = np.ones([n,1])*np.random.normal(0,1,[1,T]) # (n x T)\n",
    "treat = fn_randomize_treatment(n,p) # (n x 1)\n",
    "W = np.concatenate([np.zeros([n,t_treat-1]),treat*np.ones([n,T-t_treat+1])],axis = 1)\n",
    "Y = W*tau+mu+delta+eps\n",
    "Yt = Y[np.where(treat==1)[0],:]\n",
    "Yc = Y[np.where(treat==0)[0],:]\n",
    "plt.hist(eps)\n",
    "plt.title('Distribution of errors')"
   ]
  },
  {
   "cell_type": "markdown",
   "metadata": {},
   "source": [
    "Estimate parameter of interest by running a regression of $\\Delta Y_{i1}$ on the treatment indicator and an intercept"
   ]
  },
  {
   "cell_type": "code",
   "execution_count": 5,
   "metadata": {},
   "outputs": [],
   "source": [
    "Ydiff = Y[:,1]-Y[:,0]\n",
    "Wmod = copy.deepcopy(W)\n",
    "Wmod[:,0] = 1\n",
    "model = sm.OLS(Ydiff,Wmod)"
   ]
  },
  {
   "cell_type": "code",
   "execution_count": 6,
   "metadata": {},
   "outputs": [],
   "source": [
    "# res = model.fit()\n",
    "# res.summary()"
   ]
  },
  {
   "cell_type": "code",
   "execution_count": 7,
   "metadata": {},
   "outputs": [
    {
     "data": {
      "text/plain": [
       "2.017574857434594"
      ]
     },
     "execution_count": 7,
     "metadata": {},
     "output_type": "execute_result"
    }
   ],
   "source": [
    "Yt_diff = np.mean(Yt[:,1])-np.mean(Yt[:,0])\n",
    "Yc_diff = np.mean(Yc[:,1])-np.mean(Yc[:,0])\n",
    "Yt_diff - Yc_diff"
   ]
  },
  {
   "cell_type": "code",
   "execution_count": 8,
   "metadata": {},
   "outputs": [],
   "source": [
    "v_Y = np.concatenate([Y[:,i] for i in range(T)]).reshape([2*n,1])\n",
    "# v_W = np.concatenate([W[:,i] for i in range(T)]).reshape([2*n,1])\n",
    "v_W = np.concatenate([W[:,1] for i in range(T)]).reshape([2*n,1])\n",
    "v_mu = np.concatenate([mu for i in range(T)])\n",
    "v_n = np.concatenate([range(1,n+1) for i in range(T)]).reshape([2*n,1])\n",
    "v_t = np.concatenate([i*np.ones([n,1]) for i in range(1,T+1)])"
   ]
  },
  {
   "cell_type": "code",
   "execution_count": 9,
   "metadata": {},
   "outputs": [],
   "source": [
    "df = pd.DataFrame({'y':v_Y[:,0],\n",
    "                   'W':v_W[:,0],\n",
    "                   'mu':v_mu[:,0],\n",
    "                   'n':v_n[:,0],\n",
    "                   't':v_t[:,0]})"
   ]
  },
  {
   "cell_type": "markdown",
   "metadata": {},
   "source": [
    "Now let $T_i = 1$ if $t=2$ and $T_i=0$ otherwise and run regression\n",
    "\n",
    "$Y_i = \\alpha+W_{i1}+T_i+W_{i1}*T_i$"
   ]
  },
  {
   "cell_type": "code",
   "execution_count": 10,
   "metadata": {},
   "outputs": [],
   "source": [
    "df['Ti'] = 1*(df.t==2)\n",
    "df['const'] = 1\n",
    "df['int'] = df.W*df.Ti"
   ]
  },
  {
   "cell_type": "code",
   "execution_count": 11,
   "metadata": {},
   "outputs": [],
   "source": [
    "# mod = sm.OLS(df.y,df[['const','W','Ti','int']])\n",
    "# res = mod.fit()\n",
    "# res.summary()"
   ]
  },
  {
   "cell_type": "markdown",
   "metadata": {},
   "source": [
    "## Let's focus on the more interesting case where we observe multiple time periods and multiple groups\n",
    "\n",
    "$Y_{igt} = \\alpha_g+\\gamma_t+\\beta I_{gt}+\\delta X_{igt}+\\varepsilon_{igt}$\n",
    "\n",
    "Assessing DD identification the key identifying assumption in DD models is that the treatment stateshave similar trends to the control states in the absence of treatment"
   ]
  },
  {
   "cell_type": "code",
   "execution_count": 12,
   "metadata": {},
   "outputs": [],
   "source": [
    "n = 2\n",
    "G = 2\n",
    "n_treated = 1\n",
    "T = 20\n",
    "\n",
    "beta = 20\n",
    "delta = 1\n",
    "treat_start = 10"
   ]
  },
  {
   "cell_type": "markdown",
   "metadata": {},
   "source": [
    "Plot the outcome for the treatment and control group"
   ]
  },
  {
   "cell_type": "code",
   "execution_count": 13,
   "metadata": {},
   "outputs": [],
   "source": [
    "linear_trend = True\n",
    "[Y,alpha,gamma,treat,X]= fn_generate_grouped_panel(n,G,T,n_treated,treat_start,beta,delta,linear_trend)"
   ]
  },
  {
   "cell_type": "code",
   "execution_count": 14,
   "metadata": {},
   "outputs": [
    {
     "data": {
      "image/png": "[encoded data removed]",
      "text/plain": [
       "<Figure size 720x432 with 1 Axes>"
      ]
     },
     "metadata": {
      "needs_background": "light"
     },
     "output_type": "display_data"
    }
   ],
   "source": [
    "colnames = ['Y','alpha','gamma','I','X']\n",
    "data = [Y,alpha,gamma,treat,X]\n",
    "\n",
    "dfg = fn_create_wide_to_long_df(data,colnames,n,G,T)\n",
    "fn_plot_dd(dfg,treat_start)"
   ]
  },
  {
   "cell_type": "code",
   "execution_count": 15,
   "metadata": {},
   "outputs": [
    {
     "data": {
      "image/png": "[encoded data removed]",
      "text/plain": [
       "<Figure size 720x432 with 1 Axes>"
      ]
     },
     "metadata": {
      "needs_background": "light"
     },
     "output_type": "display_data"
    }
   ],
   "source": [
    "linear_trend = False\n",
    "[Y,alpha,gamma,treat,X]= fn_generate_grouped_panel(n,G,T,n_treated,treat_start,beta,delta,linear_trend)\n",
    "colnames = ['Y','alpha','gamma','I','X']\n",
    "data = [Y,alpha,gamma,treat,X]\n",
    "\n",
    "dfg = fn_create_wide_to_long_df(data,colnames,n,G,T)\n",
    "fn_plot_dd(dfg,treat_start)"
   ]
  },
  {
   "cell_type": "markdown",
   "metadata": {},
   "source": [
    "### Estimation"
   ]
  },
  {
   "cell_type": "code",
   "execution_count": 16,
   "metadata": {},
   "outputs": [],
   "source": [
    "data = [Y,alpha,gamma,treat,X]\n",
    "colnames = ['Y','alpha','gamma','I','X']\n",
    "\n",
    "dfg = fn_create_wide_to_long_df(data,colnames,n,G,T)\n",
    "\n",
    "dfg = fn_within_transformation(dfg,colnames,'group')   "
   ]
  },
  {
   "cell_type": "code",
   "execution_count": 17,
   "metadata": {},
   "outputs": [],
   "source": [
    "# dfg.head()"
   ]
  },
  {
   "cell_type": "markdown",
   "metadata": {},
   "source": [
    "#### Estimation using a full set of time and group dummies"
   ]
  },
  {
   "cell_type": "code",
   "execution_count": 18,
   "metadata": {},
   "outputs": [],
   "source": [
    "xvars = pd.concat([dfg[['I','X']],\n",
    "                   pd.get_dummies(dfg['group'],drop_first = False),\n",
    "                   pd.get_dummies(dfg['t'],drop_first = False)],axis = 1)\n",
    "mod = sm.OLS(dfg['Y'],xvars)\n",
    "res = mod.fit()\n",
    "# res.summary()"
   ]
  },
  {
   "cell_type": "markdown",
   "metadata": {},
   "source": [
    "#### Estimation using a within group transformation"
   ]
  },
  {
   "cell_type": "code",
   "execution_count": 19,
   "metadata": {},
   "outputs": [],
   "source": [
    "xvars = pd.concat([dfg[['I_w','X_w']],\n",
    "                  pd.get_dummies(dfg['t'])],axis = 1)\n",
    "mod = sm.OLS(dfg['Y_w'],xvars)\n",
    "res = mod.fit()\n",
    "# res.summary()"
   ]
  },
  {
   "cell_type": "markdown",
   "metadata": {},
   "source": [
    "### Multiple groups and time periods\n",
    "\n",
    "$Y_{igt} = \\alpha_g+\\gamma_t+\\beta I_{gt}+\\delta X_{igt}+\\varepsilon_{igt}$\n"
   ]
  },
  {
   "cell_type": "code",
   "execution_count": 20,
   "metadata": {},
   "outputs": [],
   "source": [
    "n = 1000\n",
    "G = 10\n",
    "n_treated = 5\n",
    "T = 20\n",
    "\n",
    "beta = 20\n",
    "delta = 1\n",
    "treat_start = 10\n"
   ]
  },
  {
   "cell_type": "code",
   "execution_count": 21,
   "metadata": {},
   "outputs": [
    {
     "data": {
      "image/png": "[encoded data removed]",
      "text/plain": [
       "<Figure size 720x432 with 1 Axes>"
      ]
     },
     "metadata": {
      "needs_background": "light"
     },
     "output_type": "display_data"
    }
   ],
   "source": [
    "linear_trend = True\n",
    "[Y,alpha,gamma,treat,X]= fn_generate_grouped_panel(n,G,T,n_treated,treat_start,beta,delta,linear_trend)\n",
    "colnames = ['Y','alpha','gamma','I','X']\n",
    "data = [Y,alpha,gamma,treat,X]\n",
    "dfg = fn_create_wide_to_long_df(data,colnames,n,G,T)\n",
    "fn_plot_dd(dfg,treat_start)\n",
    "# dfg.head()"
   ]
  },
  {
   "cell_type": "markdown",
   "metadata": {},
   "source": [
    "### Estimation\n"
   ]
  },
  {
   "cell_type": "code",
   "execution_count": 22,
   "metadata": {},
   "outputs": [],
   "source": [
    "dfw = fn_within_transformation(dfg,colnames,'group')   "
   ]
  },
  {
   "cell_type": "code",
   "execution_count": 23,
   "metadata": {},
   "outputs": [],
   "source": [
    "xvars = pd.concat([dfw[['I_w','X_w']],\n",
    "                  pd.get_dummies(dfw['t'])],axis = 1)\n",
    "mod = sm.OLS(dfw['Y_w'],xvars,cluster= dfw['group'])\n",
    "res = mod.fit(cov_type='HC1')\n",
    "t = res.params.I_w/res.HC1_se.I_w"
   ]
  },
  {
   "cell_type": "markdown",
   "metadata": {},
   "source": [
    "### Simulate placebo policy"
   ]
  },
  {
   "cell_type": "code",
   "execution_count": 24,
   "metadata": {},
   "outputs": [],
   "source": [
    "def fn_placebo_treatment(row,tstart,treated):\n",
    "    if (row.t>=tstart) & (row.group in treated):\n",
    "        return 1\n",
    "    else:\n",
    "        return 0"
   ]
  },
  {
   "cell_type": "code",
   "execution_count": 25,
   "metadata": {},
   "outputs": [
    {
     "name": "stderr",
     "output_type": "stream",
     "text": [
      "  5%|▌         | 5/100 [00:01<00:30,  3.13it/s]<ipython-input-25-a10acc4bd6bc>:27: RuntimeWarning: invalid value encountered in double_scalars\n",
      "  t = res.params.I_w/res.HC1_se.I_w\n",
      "100%|██████████| 100/100 [00:32<00:00,  3.09it/s]\n"
     ]
    }
   ],
   "source": [
    "R = 100\n",
    "l = []\n",
    "n = 1000\n",
    "G = 10\n",
    "n_treated = 1\n",
    "T = 20\n",
    "\n",
    "beta = 20\n",
    "delta = 1\n",
    "treat_start = 10\n",
    "linear_trend = True\n",
    "colnames = ['Y','alpha','gamma','I','X']\n",
    "\n",
    "for r in tqdm(range(R)):\n",
    "    np.random.seed(r)\n",
    "    [Y,alpha,gamma,treat,X]= fn_generate_grouped_panel(n,G,T,n_treated,treat_start,beta,delta,linear_trend)\n",
    "    data = [Y,alpha,gamma,treat,X]\n",
    "    dfg = fn_create_wide_to_long_df(data,colnames,n,G,T)\n",
    "    tstart = random.choice(range(dfg.t.min(),dfg.t.max()+1))\n",
    "    treated = random.choices(range(dfg.group.min(),dfg.group.max()+1),k = int(dfg.group.max()/2))\n",
    "    dfg['I'] = dfg.apply(lambda row: fn_placebo_treatment(row,tstart,treated),axis = 1)\n",
    "    dfw = fn_within_transformation(dfg,colnames,'group')  \n",
    "    xvars = pd.concat([dfw[['I_w','X_w']],\n",
    "                  pd.get_dummies(dfw['t'])],axis = 1)\n",
    "    mod = sm.OLS(dfw['Y_w'],xvars,cluster= dfw['group'])\n",
    "    res = mod.fit(cov_type='HC1')\n",
    "    t = res.params.I_w/res.HC1_se.I_w\n",
    "    if np.abs(t)>1.96:\n",
    "        l = l+[1]\n",
    "    else:\n",
    "        l = l+[0]"
   ]
  },
  {
   "cell_type": "code",
   "execution_count": 26,
   "metadata": {},
   "outputs": [
    {
     "data": {
      "text/plain": [
       "0.94"
      ]
     },
     "execution_count": 26,
     "metadata": {},
     "output_type": "execute_result"
    }
   ],
   "source": [
    "np.mean(l) # we reject"
   ]
  },
  {
   "cell_type": "markdown",
   "metadata": {},
   "source": [
    "### Now let's add some serial correlation to the DGP"
   ]
  },
  {
   "cell_type": "code",
   "execution_count": 27,
   "metadata": {},
   "outputs": [
    {
     "ename": "TypeError",
     "evalue": "fn_generate_grouped_panel() takes from 7 to 8 positional arguments but 9 were given",
     "output_type": "error",
     "traceback": [
      "\u001b[0;31m---------------------------------------------------------------------------\u001b[0m",
      "\u001b[0;31mTypeError\u001b[0m                                 Traceback (most recent call last)",
      "\u001b[0;32m<ipython-input-27-50b8b6e16587>\u001b[0m in \u001b[0;36m<module>\u001b[0;34m\u001b[0m\n\u001b[1;32m     10\u001b[0m \u001b[0mlinear_trend\u001b[0m \u001b[0;34m=\u001b[0m \u001b[0;32mTrue\u001b[0m\u001b[0;34m\u001b[0m\u001b[0;34m\u001b[0m\u001b[0m\n\u001b[1;32m     11\u001b[0m \u001b[0mserial_corr\u001b[0m \u001b[0;34m=\u001b[0m \u001b[0;32mTrue\u001b[0m\u001b[0;34m\u001b[0m\u001b[0;34m\u001b[0m\u001b[0m\n\u001b[0;32m---> 12\u001b[0;31m \u001b[0;34m[\u001b[0m\u001b[0mY\u001b[0m\u001b[0;34m,\u001b[0m\u001b[0malpha\u001b[0m\u001b[0;34m,\u001b[0m\u001b[0mgamma\u001b[0m\u001b[0;34m,\u001b[0m\u001b[0mtreat\u001b[0m\u001b[0;34m,\u001b[0m\u001b[0mX\u001b[0m\u001b[0;34m]\u001b[0m\u001b[0;34m=\u001b[0m \u001b[0mfn_generate_grouped_panel\u001b[0m\u001b[0;34m(\u001b[0m\u001b[0mn\u001b[0m\u001b[0;34m,\u001b[0m\u001b[0mG\u001b[0m\u001b[0;34m,\u001b[0m\u001b[0mT\u001b[0m\u001b[0;34m,\u001b[0m\u001b[0mn_treated\u001b[0m\u001b[0;34m,\u001b[0m\u001b[0mtreat_start\u001b[0m\u001b[0;34m,\u001b[0m\u001b[0mbeta\u001b[0m\u001b[0;34m,\u001b[0m\u001b[0mdelta\u001b[0m\u001b[0;34m,\u001b[0m\u001b[0mlinear_trend\u001b[0m\u001b[0;34m,\u001b[0m\u001b[0mserial_corr\u001b[0m\u001b[0;34m)\u001b[0m\u001b[0;34m\u001b[0m\u001b[0;34m\u001b[0m\u001b[0m\n\u001b[0m\u001b[1;32m     13\u001b[0m \u001b[0mcolnames\u001b[0m \u001b[0;34m=\u001b[0m \u001b[0;34m[\u001b[0m\u001b[0;34m'Y'\u001b[0m\u001b[0;34m,\u001b[0m\u001b[0;34m'alpha'\u001b[0m\u001b[0;34m,\u001b[0m\u001b[0;34m'gamma'\u001b[0m\u001b[0;34m,\u001b[0m\u001b[0;34m'I'\u001b[0m\u001b[0;34m,\u001b[0m\u001b[0;34m'X'\u001b[0m\u001b[0;34m]\u001b[0m\u001b[0;34m\u001b[0m\u001b[0;34m\u001b[0m\u001b[0m\n\u001b[1;32m     14\u001b[0m \u001b[0mdata\u001b[0m \u001b[0;34m=\u001b[0m \u001b[0;34m[\u001b[0m\u001b[0mY\u001b[0m\u001b[0;34m,\u001b[0m\u001b[0malpha\u001b[0m\u001b[0;34m,\u001b[0m\u001b[0mgamma\u001b[0m\u001b[0;34m,\u001b[0m\u001b[0mtreat\u001b[0m\u001b[0;34m,\u001b[0m\u001b[0mX\u001b[0m\u001b[0;34m]\u001b[0m\u001b[0;34m\u001b[0m\u001b[0;34m\u001b[0m\u001b[0m\n",
      "\u001b[0;31mTypeError\u001b[0m: fn_generate_grouped_panel() takes from 7 to 8 positional arguments but 9 were given"
     ]
    }
   ],
   "source": [
    "n = 1000\n",
    "G = 10\n",
    "n_treated = 5\n",
    "T = 20\n",
    "\n",
    "beta = 20\n",
    "delta = 1\n",
    "treat_start = 10\n",
    "\n",
    "linear_trend = True\n",
    "serial_corr = True\n",
    "[Y,alpha,gamma,treat,X]= fn_generate_grouped_panel(n,G,T,n_treated,treat_start,beta,delta,linear_trend,serial_corr)\n",
    "colnames = ['Y','alpha','gamma','I','X']\n",
    "data = [Y,alpha,gamma,treat,X]\n",
    "dfg = fn_create_wide_to_long_df(data,colnames,n,G,T)\n",
    "fn_plot_dd(dfg,treat_start)"
   ]
  },
  {
   "cell_type": "code",
   "execution_count": null,
   "metadata": {},
   "outputs": [],
   "source": [
    "def fn_generate_grouped_panel(n,G,T,n_treated,treat_start,beta,delta,linear_trend = False,corr = False):\n",
    "    n_g = n/G # number of observations in each group\n",
    "    if n_g.is_integer()==False:\n",
    "        return print('Error: n_g is not an integer')\n",
    "\n",
    "    else:\n",
    "        n_g = int(n_g)\n",
    "\n",
    "        alphaG = np.random.normal(1,1,[G,1]) # (G x 1) group fixed effects\n",
    "        alpha_i = fn_group_to_ind(alphaG,n_g) # (n x 1)\n",
    "        treatG = np.zeros([G,1])\n",
    "        treatG[:n_treated,] = 1\n",
    "        treat_i = fn_group_to_ind(treatG,n_g) # (n x 1)\n",
    "        # convert to (n X T)\n",
    "        if linear_trend==True:\n",
    "            gamma = np.vstack([np.array(range(T)) for i in range(n)])\n",
    "        else:\n",
    "            gamma = np.ones([n,1])*np.random.normal(0,1,[1,T]) # (n x T) # time specific effects   \n",
    "        alpha = fn_ind_to_panel(alpha_i,T)\n",
    "        treat = fn_ind_to_panel(treat_i,T)\n",
    "        treat = np.concatenate([0*treat[:,:treat_start],treat[:,treat_start:]],axis = 1)\n",
    "\n",
    "        sig = (np.random.chisquare(2,[n,1])/4+0.5)**(1/2)\n",
    "        eps = sig*((np.random.chisquare(2,[n,T])-2)*0.5) # (n x T)\n",
    "        \n",
    "        if corr == True:\n",
    "            rho = .7\n",
    "            u = np.zeros(eps.shape)\n",
    "            u[:,0] = eps[:,0]\n",
    "            for t in range(1,T):\n",
    "                u[:,t] = rho*u[:,t-1]+eps[:,t]\n",
    "                \n",
    "        X = np.concatenate([fn_generate_multnorm(n,.5,1) for i in range(T)],axis =1) # (n x T)\n",
    "        if corr == False:\n",
    "            Y = alpha + gamma + beta*treat + delta*X+eps\n",
    "        else:\n",
    "            Y = alpha + gamma + beta*treat + delta*X + u\n",
    "\n",
    "        return [Y,alpha,gamma,treat,X]"
   ]
  },
  {
   "cell_type": "code",
   "execution_count": null,
   "metadata": {},
   "outputs": [],
   "source": [
    "def fn_run_mc(beta,R,corr):\n",
    "    l0 = []\n",
    "    l1 = []\n",
    "    for r in tqdm(range(R)):\n",
    "        np.random.seed(r)\n",
    "        [Y,alpha,gamma,treat,X]= fn_generate_grouped_panel(n,G,T,n_treated,treat_start,beta,delta,linear_trend,corr)\n",
    "        data = [Y,alpha,gamma,treat,X]\n",
    "        dfg = fn_create_wide_to_long_df(data,colnames,n,G,T)\n",
    "        tstart = random.choice(range(dfg.t.min(),dfg.t.max()+1))\n",
    "        treated = random.choices(range(dfg.group.min(),dfg.group.max()+1),k = int(dfg.group.max()/2))\n",
    "    #     dfg['I'] = dfg.apply(lambda row: fn_placebo_treatment(row,tstart,treated),axis = 1)\n",
    "        dfw = fn_within_transformation(dfg,colnames,'group')  \n",
    "        xvars = pd.concat([dfw[['I_w','X_w']],\n",
    "                      pd.get_dummies(dfw['t'])],axis = 1)\n",
    "        mod = sm.OLS(dfw['Y_w'],xvars,cluster= dfw['group'])\n",
    "        res = mod.fit(cov_type='HC1')\n",
    "        t0 = res.params.I_w/res.HC1_se.I_w\n",
    "        t1 = (res.params.I_w-beta)/res.HC1_se.I_w\n",
    "\n",
    "        l0 = l0 + [1*(np.abs(t0)>1.96)]\n",
    "        l1 = l1 + [1*(np.abs(t1)>1.96)]\n",
    "\n",
    "    return np.mean(l0),np.mean(l1)"
   ]
  },
  {
   "cell_type": "code",
   "execution_count": null,
   "metadata": {},
   "outputs": [],
   "source": [
    "R = 500\n",
    "n = 1000\n",
    "G = 10\n",
    "n_treated = 5\n",
    "T = 20\n",
    "delta = 1\n",
    "treat_start = 10\n",
    "linear_trend = True\n",
    "colnames = ['Y','alpha','gamma','I','X']\n"
   ]
  },
  {
   "cell_type": "markdown",
   "metadata": {},
   "source": [
    "##### Treatment effect = 2 with no serial correlation"
   ]
  },
  {
   "cell_type": "code",
   "execution_count": null,
   "metadata": {},
   "outputs": [],
   "source": [
    "beta = 2\n",
    "corr = False\n",
    "\n",
    "h1, hb = fn_run_mc(beta,R,corr)\n",
    "h1,hb"
   ]
  },
  {
   "cell_type": "markdown",
   "metadata": {},
   "source": [
    "##### Treatment effect = 2 with serial correlation"
   ]
  },
  {
   "cell_type": "code",
   "execution_count": null,
   "metadata": {},
   "outputs": [],
   "source": [
    "beta = 2\n",
    "corr = True\n",
    "\n",
    "h1, hb = fn_run_mc(beta,R,corr)\n",
    "h1,hb"
   ]
  },
  {
   "cell_type": "markdown",
   "metadata": {},
   "source": [
    "##### Treatment effect = 0, no serial correlation"
   ]
  },
  {
   "cell_type": "code",
   "execution_count": null,
   "metadata": {},
   "outputs": [],
   "source": [
    "beta = 0\n",
    "corr = False\n",
    "\n",
    "h1, hb = fn_run_mc(beta,R,corr)\n",
    "print('We reject beta=0 {}% of the time'.format(h1))"
   ]
  },
  {
   "cell_type": "markdown",
   "metadata": {},
   "source": [
    "##### Treatment effect = 0, serial correlation"
   ]
  },
  {
   "cell_type": "code",
   "execution_count": null,
   "metadata": {},
   "outputs": [],
   "source": [
    "beta = 0\n",
    "corr = True\n",
    "\n",
    "h1, hb = fn_run_mc(beta,R,corr)\n",
    "print('We reject beta=0 {}% of the time'.format(h1))"
   ]
  },
  {
   "cell_type": "markdown",
   "metadata": {},
   "source": [
    "## Sentsitivity tests\n",
    "\n",
    "Redo the analysis on pre-event years - the estiamted treatment effect should be zero!\n",
    "Are treatment and control gropus similar along observable dimensions?\n",
    "Make sure the change is concentrated around the event\n",
    "Make sure tha tother outcome variables that should be unaffected by the event are indeed unaffected"
   ]
  },
  {
   "cell_type": "code",
   "execution_count": null,
   "metadata": {},
   "outputs": [],
   "source": []
  },
  {
   "cell_type": "code",
   "execution_count": null,
   "metadata": {},
   "outputs": [],
   "source": []
  }
 ],
 "metadata": {
  "kernelspec": {
   "display_name": "Python 3",
   "language": "python",
   "name": "python3"
  },
  "language_info": {
   "codemirror_mode": {
    "name": "ipython",
    "version": 3
   },
   "file_extension": ".py",
   "mimetype": "text/x-python",
   "name": "python",
   "nbconvert_exporter": "python",
   "pygments_lexer": "ipython3",
   "version": "3.8.5"
  }
 },
 "nbformat": 4,
 "nbformat_minor": 2
}
